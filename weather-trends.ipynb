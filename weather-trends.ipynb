{
 "cells": [
  {
   "cell_type": "markdown",
   "metadata": {},
   "source": [
    "# Explore weather trends"
   ]
  },
  {
   "cell_type": "markdown",
   "metadata": {
    "collapsed": true
   },
   "source": [
    "In this report, we are going to visualize temperature trends for global and Shiraz (a local city).\n"
   ]
  },
  {
   "cell_type": "markdown",
   "metadata": {},
   "source": [
    "## Data Extraction"
   ]
  },
  {
   "cell_type": "markdown",
   "metadata": {},
   "source": [
    "CSV dataset that is used in the python code below is extracted from the online database using SQL query below, a simple SELECT with an inner join to merge the two global temperature and city temperature table."
   ]
  },
  {
   "cell_type": "markdown",
   "metadata": {},
   "source": [
    "```sql\n",
    "SELECT c.year,c.avg_temp as shiraz_temp,g.avg_temp as global_temp FROM city_data c JOIN global_data g on c.year=g.year where c.city='Shiraz'\n",
    "```"
   ]
  },
  {
   "cell_type": "markdown",
   "metadata": {},
   "source": [
    "## Data Visualization\n"
   ]
  },
  {
   "cell_type": "markdown",
   "metadata": {},
   "source": [
    "Now that we've got the data, it's time to visualize it using python. First of all, we import pandas to read the dataset and matplotlib.pyplot for drawing line chart."
   ]
  },
  {
   "cell_type": "code",
   "execution_count": 1,
   "metadata": {
    "collapsed": true
   },
   "outputs": [],
   "source": [
    "from pandas import read_csv\n",
    "import matplotlib.pyplot as plt"
   ]
  },
  {
   "cell_type": "markdown",
   "metadata": {},
   "source": [
    "In this part, we are going to define a function to calculate moving average based on the input arguments."
   ]
  },
  {
   "cell_type": "code",
   "execution_count": 2,
   "metadata": {
    "collapsed": true
   },
   "outputs": [],
   "source": [
    "def moving_average_calculator(data_frame, coloum_index, moving_count):\n",
    "    \"\"\"\n",
    "    calculate moving average on a given data_frame and coloum_index by moving_count\n",
    "    \"\"\"\n",
    "    averages = []\n",
    "    for index in range(len(data_frame)):\n",
    "        avg = sum(data_frame.iloc[index - moving_count: index, coloum_index])/moving_count\n",
    "        averages.append(avg)\n",
    "    return averages"
   ]
  },
  {
   "cell_type": "markdown",
   "metadata": {},
   "source": [
    "Reading dataset using read_csv function of pandas module then setting moving average that is going to be used in calculations."
   ]
  },
  {
   "cell_type": "code",
   "execution_count": 3,
   "metadata": {
    "collapsed": true
   },
   "outputs": [],
   "source": [
    "DATA_FRAME = read_csv(\"shiraz_vs_global.csv\")"
   ]
  },
  {
   "cell_type": "code",
   "execution_count": 4,
   "metadata": {
    "collapsed": true
   },
   "outputs": [],
   "source": [
    "MOVING_AVERAGE = 10"
   ]
  },
  {
   "cell_type": "markdown",
   "metadata": {},
   "source": [
    "Calculating moving average for Shiraz and global temperature."
   ]
  },
  {
   "cell_type": "code",
   "execution_count": 5,
   "metadata": {
    "collapsed": true
   },
   "outputs": [],
   "source": [
    "SHIRAZ_TEMP_AVG = moving_average_calculator(DATA_FRAME, 1, MOVING_AVERAGE)\n",
    "GLOBAL_TEMP_AVG = moving_average_calculator(DATA_FRAME, 2, MOVING_AVERAGE)"
   ]
  },
  {
   "cell_type": "markdown",
   "metadata": {},
   "source": [
    "And finally, drawing the line chart."
   ]
  },
  {
   "cell_type": "code",
   "execution_count": 6,
   "metadata": {},
   "outputs": [
    {
     "data": {
      "image/png": "[encoded data removed]",
      "text/plain": [
       "<matplotlib.figure.Figure at 0x226e5a6cd30>"
      ]
     },
     "metadata": {},
     "output_type": "display_data"
    }
   ],
   "source": [
    "plt.plot(DATA_FRAME['year'].iloc[MOVING_AVERAGE:], SHIRAZ_TEMP_AVG[MOVING_AVERAGE:], label='Shiraz')\n",
    "plt.plot(DATA_FRAME['year'].iloc[MOVING_AVERAGE:], GLOBAL_TEMP_AVG[MOVING_AVERAGE:], label='Global')\n",
    "plt.xlabel(\"Year\")\n",
    "plt.ylabel(\"Temperature (C°)\")\n",
    "plt.legend(loc=6)\n",
    "plt.title(\"Temperature in Shiraz vs Global ({} year(s) moving average)\".format(MOVING_AVERAGE))\n",
    "plt.show()"
   ]
  },
  {
   "cell_type": "markdown",
   "metadata": {},
   "source": [
    "## Observation\n"
   ]
  },
  {
   "cell_type": "markdown",
   "metadata": {},
   "source": [
    "First noticeable note in the chart is that Shiraz temperature is almost as 2.5 times of global temperature and it has almost maintained the difference even in the last fifty years that temperature changes are more considerable.\n",
    "\n",
    "Both Shiraz and global shows temperature increase over the last 150 years, however, Shiraz shows more persistent temperature until 1940 while global shows it until 1920. there is a minor temperature increase in the 1920s to 1940s where it is hidden in Shiraz.\n",
    "\n",
    "The most noticeable change is in the last fifty years that could be seen within a glimpse. Both Shiraz and global shows a major temperature increase in their stats. however, Shiraz temperature change is almost a little higher than usual difference between itself and global."
   ]
  }
 ],
 "metadata": {
  "kernelspec": {
   "display_name": "Python 3",
   "language": "python",
   "name": "python3"
  },
  "language_info": {
   "codemirror_mode": {
    "name": "ipython",
    "version": 3
   },
   "file_extension": ".py",
   "mimetype": "text/x-python",
   "name": "python",
   "nbconvert_exporter": "python",
   "pygments_lexer": "ipython3",
   "version": "3.6.2"
  }
 },
 "nbformat": 4,
 "nbformat_minor": 2
}
